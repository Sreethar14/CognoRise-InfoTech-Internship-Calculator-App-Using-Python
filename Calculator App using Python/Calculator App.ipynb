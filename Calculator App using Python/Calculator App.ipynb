{
 "cells": [
  {
   "cell_type": "code",
   "execution_count": 1,
   "id": "619e4f31",
   "metadata": {},
   "outputs": [],
   "source": [
    "# Importing necessary libraries\n",
    "from tkinter import *"
   ]
  },
  {
   "cell_type": "code",
   "execution_count": 2,
   "id": "c553e7fa",
   "metadata": {},
   "outputs": [],
   "source": [
    "# Creating the GUI window\n",
    "window = Tk()\n",
    "window.title(\"Calculator App\")\n",
    "\n",
    "# Global variable to store the current math expression\n",
    "expression = \"\""
   ]
  },
  {
   "cell_type": "code",
   "execution_count": 3,
   "id": "fdbab058",
   "metadata": {},
   "outputs": [],
   "source": [
    "# Function to update the expression variable\n",
    "def update_expression(num):\n",
    "    global expression\n",
    "    expression += str(num)\n",
    "    equation.set(expression)\n",
    "\n",
    "# Function to evaluate the math expression\n",
    "def evaluate():\n",
    "    global expression\n",
    "    try:\n",
    "        result = eval(expression)\n",
    "        equation.set(result)\n",
    "        expression = str(result)\n",
    "    except Exception as e:\n",
    "        equation.set(\"Error\")\n",
    "        expression = \"\""
   ]
  },
  {
   "cell_type": "code",
   "execution_count": 4,
   "id": "c4aaf97f",
   "metadata": {},
   "outputs": [],
   "source": [
    "# Function to clear the calculator\n",
    "def clear():\n",
    "    global expression\n",
    "    expression = \"\"\n",
    "    equation.set(\"\")\n",
    "\n",
    "# Creating the entry field for displaying the math expression\n",
    "equation = StringVar()\n",
    "entry_field = Entry(window, textvariable=equation, width=20)\n",
    "entry_field.grid(row=0, column=0, columnspan=4)"
   ]
  },
  {
   "cell_type": "code",
   "execution_count": 5,
   "id": "49fcc8f5",
   "metadata": {},
   "outputs": [],
   "source": [
    "# Creating number buttons\n",
    "button_1 = Button(window, text=\"1\", command=lambda: update_expression(1))\n",
    "button_1.grid(row=1, column=0)\n",
    "button_2 = Button(window, text=\"2\", command=lambda: update_expression(2))\n",
    "button_2.grid(row=1, column=1)\n",
    "button_3 = Button(window, text=\"3\", command=lambda: update_expression(3))\n",
    "button_3.grid(row=1, column=2)\n",
    "\n",
    "button_4 = Button(window, text=\"4\", command=lambda: update_expression(4))\n",
    "button_4.grid(row=2, column=0)\n",
    "button_5 = Button(window, text=\"5\", command=lambda: update_expression(5))\n",
    "button_5.grid(row=2, column=1)\n",
    "button_6 = Button(window, text=\"6\", command=lambda: update_expression(6))\n",
    "button_6.grid(row=2, column=2)\n",
    "\n",
    "button_7 = Button(window, text=\"7\", command=lambda: update_expression(7))\n",
    "button_7.grid(row=3, column=0)\n",
    "button_8 = Button(window, text=\"8\", command=lambda: update_expression(8))\n",
    "button_8.grid(row=3, column=1)\n",
    "button_9 = Button(window, text=\"9\", command=lambda: update_expression(9))\n",
    "button_9.grid(row=3, column=2)\n",
    "\n",
    "button_0 = Button(window, text=\"0\", command=lambda: update_expression(0))\n",
    "button_0.grid(row=4, column=0)\n",
    "\n",
    "# Creating operator buttons\n",
    "button_add = Button(window, text=\"+\", command=lambda: update_expression(\"+\"))\n",
    "button_add.grid(row=1, column=3)\n",
    "button_subtract = Button(window, text=\"-\", command=lambda: update_expression(\"-\"))\n",
    "button_subtract.grid(row=2, column=3)\n",
    "button_multiply = Button(window, text=\"*\", command=lambda: update_expression(\"*\"))\n",
    "button_multiply.grid(row=3, column=3)\n",
    "button_divide = Button(window, text=\"/\", command=lambda: update_expression(\"/\"))\n",
    "button_divide.grid(row=4, column=3)\n",
    "\n",
    "button_equals = Button(window, text=\"=\", command=evaluate)\n",
    "button_equals.grid(row=4, column=2)\n",
    "button_clear = Button(window, text=\"C\", command=clear)\n",
    "button_clear.grid(row=4, column=1)\n",
    "\n",
    "# Starting the GUI event loop\n",
    "window.mainloop()"
   ]
  },
  {
   "attachments": {},
   "cell_type": "markdown",
   "id": "04ab8cea",
   "metadata": {},
   "source": []
  }
 ],
 "metadata": {
  "kernelspec": {
   "display_name": "Python 3 (ipykernel)",
   "language": "python",
   "name": "python3"
  },
  "language_info": {
   "codemirror_mode": {
    "name": "ipython",
    "version": 3
   },
   "file_extension": ".py",
   "mimetype": "text/x-python",
   "name": "python",
   "nbconvert_exporter": "python",
   "pygments_lexer": "ipython3",
   "version": "3.11.5"
  }
 },
 "nbformat": 4,
 "nbformat_minor": 5
}
